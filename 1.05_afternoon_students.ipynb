{
 "cells": [
  {
   "cell_type": "markdown",
   "metadata": {
    "id": "HqjBILyzh-Kl"
   },
   "source": [
    "# Lesson 3"
   ]
  },
  {
   "cell_type": "code",
   "execution_count": 1,
   "metadata": {
    "id": "BXAK7WYrwBQY"
   },
   "outputs": [],
   "source": [
    "import pandas as pd\n",
    "import numpy as np"
   ]
  },
  {
   "cell_type": "code",
   "execution_count": 3,
   "metadata": {
    "id": "BzPatdo_rP6e"
   },
   "outputs": [
    {
     "data": {
      "text/html": [
       "<div>\n",
       "<style scoped>\n",
       "    .dataframe tbody tr th:only-of-type {\n",
       "        vertical-align: middle;\n",
       "    }\n",
       "\n",
       "    .dataframe tbody tr th {\n",
       "        vertical-align: top;\n",
       "    }\n",
       "\n",
       "    .dataframe thead th {\n",
       "        text-align: right;\n",
       "    }\n",
       "</style>\n",
       "<table border=\"1\" class=\"dataframe\">\n",
       "  <thead>\n",
       "    <tr style=\"text-align: right;\">\n",
       "      <th></th>\n",
       "      <th>gender</th>\n",
       "      <th>median_home_val</th>\n",
       "      <th>ic2</th>\n",
       "      <th>ic3</th>\n",
       "      <th>avggift</th>\n",
       "      <th>target_d</th>\n",
       "    </tr>\n",
       "  </thead>\n",
       "  <tbody>\n",
       "    <tr>\n",
       "      <th>0</th>\n",
       "      <td>M</td>\n",
       "      <td>1158.437751</td>\n",
       "      <td>430</td>\n",
       "      <td>466</td>\n",
       "      <td>28.000000</td>\n",
       "      <td>100.0</td>\n",
       "    </tr>\n",
       "    <tr>\n",
       "      <th>1</th>\n",
       "      <td>M</td>\n",
       "      <td>537.000000</td>\n",
       "      <td>415</td>\n",
       "      <td>410</td>\n",
       "      <td>5.666667</td>\n",
       "      <td>7.0</td>\n",
       "    </tr>\n",
       "    <tr>\n",
       "      <th>2</th>\n",
       "      <td>F</td>\n",
       "      <td>725.000000</td>\n",
       "      <td>340</td>\n",
       "      <td>361</td>\n",
       "      <td>4.111111</td>\n",
       "      <td>5.0</td>\n",
       "    </tr>\n",
       "    <tr>\n",
       "      <th>3</th>\n",
       "      <td>M</td>\n",
       "      <td>1158.437751</td>\n",
       "      <td>407</td>\n",
       "      <td>399</td>\n",
       "      <td>27.277778</td>\n",
       "      <td>38.0</td>\n",
       "    </tr>\n",
       "    <tr>\n",
       "      <th>4</th>\n",
       "      <td>F</td>\n",
       "      <td>995.000000</td>\n",
       "      <td>280</td>\n",
       "      <td>316</td>\n",
       "      <td>6.000000</td>\n",
       "      <td>5.0</td>\n",
       "    </tr>\n",
       "    <tr>\n",
       "      <th>5</th>\n",
       "      <td>M</td>\n",
       "      <td>764.000000</td>\n",
       "      <td>477</td>\n",
       "      <td>480</td>\n",
       "      <td>25.571429</td>\n",
       "      <td>30.0</td>\n",
       "    </tr>\n",
       "    <tr>\n",
       "      <th>6</th>\n",
       "      <td>M</td>\n",
       "      <td>890.000000</td>\n",
       "      <td>525</td>\n",
       "      <td>551</td>\n",
       "      <td>6.175000</td>\n",
       "      <td>7.0</td>\n",
       "    </tr>\n",
       "    <tr>\n",
       "      <th>7</th>\n",
       "      <td>F</td>\n",
       "      <td>1158.437751</td>\n",
       "      <td>206</td>\n",
       "      <td>235</td>\n",
       "      <td>8.818182</td>\n",
       "      <td>10.0</td>\n",
       "    </tr>\n",
       "    <tr>\n",
       "      <th>8</th>\n",
       "      <td>F</td>\n",
       "      <td>1569.000000</td>\n",
       "      <td>672</td>\n",
       "      <td>785</td>\n",
       "      <td>13.000000</td>\n",
       "      <td>5.0</td>\n",
       "    </tr>\n",
       "    <tr>\n",
       "      <th>9</th>\n",
       "      <td>F</td>\n",
       "      <td>3515.000000</td>\n",
       "      <td>565</td>\n",
       "      <td>549</td>\n",
       "      <td>8.640000</td>\n",
       "      <td>10.0</td>\n",
       "    </tr>\n",
       "    <tr>\n",
       "      <th>10</th>\n",
       "      <td>F</td>\n",
       "      <td>1026.000000</td>\n",
       "      <td>470</td>\n",
       "      <td>491</td>\n",
       "      <td>11.250000</td>\n",
       "      <td>10.0</td>\n",
       "    </tr>\n",
       "    <tr>\n",
       "      <th>11</th>\n",
       "      <td>F</td>\n",
       "      <td>890.000000</td>\n",
       "      <td>474</td>\n",
       "      <td>512</td>\n",
       "      <td>11.285714</td>\n",
       "      <td>15.0</td>\n",
       "    </tr>\n",
       "    <tr>\n",
       "      <th>12</th>\n",
       "      <td>F</td>\n",
       "      <td>1513.000000</td>\n",
       "      <td>599</td>\n",
       "      <td>615</td>\n",
       "      <td>18.500000</td>\n",
       "      <td>28.0</td>\n",
       "    </tr>\n",
       "    <tr>\n",
       "      <th>13</th>\n",
       "      <td>F</td>\n",
       "      <td>948.000000</td>\n",
       "      <td>365</td>\n",
       "      <td>368</td>\n",
       "      <td>15.000000</td>\n",
       "      <td>15.0</td>\n",
       "    </tr>\n",
       "    <tr>\n",
       "      <th>14</th>\n",
       "      <td>F</td>\n",
       "      <td>258.000000</td>\n",
       "      <td>60</td>\n",
       "      <td>93</td>\n",
       "      <td>5.450000</td>\n",
       "      <td>6.0</td>\n",
       "    </tr>\n",
       "    <tr>\n",
       "      <th>15</th>\n",
       "      <td>F</td>\n",
       "      <td>1040.000000</td>\n",
       "      <td>609</td>\n",
       "      <td>579</td>\n",
       "      <td>11.666667</td>\n",
       "      <td>15.0</td>\n",
       "    </tr>\n",
       "    <tr>\n",
       "      <th>16</th>\n",
       "      <td>F</td>\n",
       "      <td>603.000000</td>\n",
       "      <td>264</td>\n",
       "      <td>288</td>\n",
       "      <td>5.000000</td>\n",
       "      <td>5.0</td>\n",
       "    </tr>\n",
       "    <tr>\n",
       "      <th>17</th>\n",
       "      <td>F</td>\n",
       "      <td>526.000000</td>\n",
       "      <td>336</td>\n",
       "      <td>317</td>\n",
       "      <td>7.142857</td>\n",
       "      <td>10.0</td>\n",
       "    </tr>\n",
       "    <tr>\n",
       "      <th>18</th>\n",
       "      <td>M</td>\n",
       "      <td>717.000000</td>\n",
       "      <td>458</td>\n",
       "      <td>349</td>\n",
       "      <td>9.700000</td>\n",
       "      <td>25.0</td>\n",
       "    </tr>\n",
       "    <tr>\n",
       "      <th>19</th>\n",
       "      <td>M</td>\n",
       "      <td>1011.000000</td>\n",
       "      <td>588</td>\n",
       "      <td>650</td>\n",
       "      <td>6.500000</td>\n",
       "      <td>15.0</td>\n",
       "    </tr>\n",
       "    <tr>\n",
       "      <th>20</th>\n",
       "      <td>M</td>\n",
       "      <td>1063.000000</td>\n",
       "      <td>260</td>\n",
       "      <td>312</td>\n",
       "      <td>8.372791</td>\n",
       "      <td>5.0</td>\n",
       "    </tr>\n",
       "    <tr>\n",
       "      <th>21</th>\n",
       "      <td>M</td>\n",
       "      <td>291.000000</td>\n",
       "      <td>168</td>\n",
       "      <td>180</td>\n",
       "      <td>10.611111</td>\n",
       "      <td>10.0</td>\n",
       "    </tr>\n",
       "    <tr>\n",
       "      <th>22</th>\n",
       "      <td>M</td>\n",
       "      <td>1538.000000</td>\n",
       "      <td>317</td>\n",
       "      <td>342</td>\n",
       "      <td>5.500000</td>\n",
       "      <td>5.0</td>\n",
       "    </tr>\n",
       "    <tr>\n",
       "      <th>23</th>\n",
       "      <td>F</td>\n",
       "      <td>592.000000</td>\n",
       "      <td>341</td>\n",
       "      <td>306</td>\n",
       "      <td>12.500000</td>\n",
       "      <td>5.0</td>\n",
       "    </tr>\n",
       "    <tr>\n",
       "      <th>24</th>\n",
       "      <td>M</td>\n",
       "      <td>871.000000</td>\n",
       "      <td>385</td>\n",
       "      <td>365</td>\n",
       "      <td>7.857143</td>\n",
       "      <td>10.0</td>\n",
       "    </tr>\n",
       "    <tr>\n",
       "      <th>25</th>\n",
       "      <td>M</td>\n",
       "      <td>403.000000</td>\n",
       "      <td>240</td>\n",
       "      <td>201</td>\n",
       "      <td>8.000000</td>\n",
       "      <td>10.0</td>\n",
       "    </tr>\n",
       "    <tr>\n",
       "      <th>26</th>\n",
       "      <td>F</td>\n",
       "      <td>715.000000</td>\n",
       "      <td>378</td>\n",
       "      <td>371</td>\n",
       "      <td>6.000000</td>\n",
       "      <td>7.5</td>\n",
       "    </tr>\n",
       "    <tr>\n",
       "      <th>27</th>\n",
       "      <td>F</td>\n",
       "      <td>2346.000000</td>\n",
       "      <td>446</td>\n",
       "      <td>468</td>\n",
       "      <td>15.500000</td>\n",
       "      <td>21.0</td>\n",
       "    </tr>\n",
       "    <tr>\n",
       "      <th>28</th>\n",
       "      <td>M</td>\n",
       "      <td>559.000000</td>\n",
       "      <td>270</td>\n",
       "      <td>257</td>\n",
       "      <td>12.611111</td>\n",
       "      <td>20.0</td>\n",
       "    </tr>\n",
       "    <tr>\n",
       "      <th>29</th>\n",
       "      <td>M</td>\n",
       "      <td>1158.437751</td>\n",
       "      <td>457</td>\n",
       "      <td>450</td>\n",
       "      <td>12.250000</td>\n",
       "      <td>20.0</td>\n",
       "    </tr>\n",
       "    <tr>\n",
       "      <th>30</th>\n",
       "      <td>F</td>\n",
       "      <td>596.000000</td>\n",
       "      <td>168</td>\n",
       "      <td>181</td>\n",
       "      <td>16.500000</td>\n",
       "      <td>15.0</td>\n",
       "    </tr>\n",
       "    <tr>\n",
       "      <th>31</th>\n",
       "      <td>M</td>\n",
       "      <td>706.000000</td>\n",
       "      <td>376</td>\n",
       "      <td>379</td>\n",
       "      <td>15.000000</td>\n",
       "      <td>25.0</td>\n",
       "    </tr>\n",
       "    <tr>\n",
       "      <th>32</th>\n",
       "      <td>F</td>\n",
       "      <td>878.000000</td>\n",
       "      <td>517</td>\n",
       "      <td>433</td>\n",
       "      <td>10.133333</td>\n",
       "      <td>16.0</td>\n",
       "    </tr>\n",
       "    <tr>\n",
       "      <th>33</th>\n",
       "      <td>F</td>\n",
       "      <td>1275.000000</td>\n",
       "      <td>453</td>\n",
       "      <td>500</td>\n",
       "      <td>6.600000</td>\n",
       "      <td>10.0</td>\n",
       "    </tr>\n",
       "    <tr>\n",
       "      <th>34</th>\n",
       "      <td>F</td>\n",
       "      <td>2362.000000</td>\n",
       "      <td>632</td>\n",
       "      <td>655</td>\n",
       "      <td>8.928571</td>\n",
       "      <td>5.0</td>\n",
       "    </tr>\n",
       "    <tr>\n",
       "      <th>35</th>\n",
       "      <td>M</td>\n",
       "      <td>2531.000000</td>\n",
       "      <td>730</td>\n",
       "      <td>696</td>\n",
       "      <td>8.272727</td>\n",
       "      <td>11.0</td>\n",
       "    </tr>\n",
       "    <tr>\n",
       "      <th>36</th>\n",
       "      <td>F</td>\n",
       "      <td>2089.000000</td>\n",
       "      <td>296</td>\n",
       "      <td>322</td>\n",
       "      <td>7.125000</td>\n",
       "      <td>5.0</td>\n",
       "    </tr>\n",
       "    <tr>\n",
       "      <th>37</th>\n",
       "      <td>F</td>\n",
       "      <td>832.000000</td>\n",
       "      <td>338</td>\n",
       "      <td>348</td>\n",
       "      <td>10.000000</td>\n",
       "      <td>10.0</td>\n",
       "    </tr>\n",
       "    <tr>\n",
       "      <th>38</th>\n",
       "      <td>M</td>\n",
       "      <td>1458.000000</td>\n",
       "      <td>354</td>\n",
       "      <td>356</td>\n",
       "      <td>6.181818</td>\n",
       "      <td>10.0</td>\n",
       "    </tr>\n",
       "    <tr>\n",
       "      <th>39</th>\n",
       "      <td>F</td>\n",
       "      <td>1590.000000</td>\n",
       "      <td>238</td>\n",
       "      <td>262</td>\n",
       "      <td>13.500000</td>\n",
       "      <td>15.0</td>\n",
       "    </tr>\n",
       "    <tr>\n",
       "      <th>40</th>\n",
       "      <td>F</td>\n",
       "      <td>613.000000</td>\n",
       "      <td>245</td>\n",
       "      <td>294</td>\n",
       "      <td>11.833333</td>\n",
       "      <td>25.0</td>\n",
       "    </tr>\n",
       "    <tr>\n",
       "      <th>41</th>\n",
       "      <td>F</td>\n",
       "      <td>477.000000</td>\n",
       "      <td>282</td>\n",
       "      <td>292</td>\n",
       "      <td>5.875000</td>\n",
       "      <td>10.0</td>\n",
       "    </tr>\n",
       "    <tr>\n",
       "      <th>42</th>\n",
       "      <td>F</td>\n",
       "      <td>424.000000</td>\n",
       "      <td>256</td>\n",
       "      <td>230</td>\n",
       "      <td>4.863636</td>\n",
       "      <td>6.0</td>\n",
       "    </tr>\n",
       "    <tr>\n",
       "      <th>43</th>\n",
       "      <td>M</td>\n",
       "      <td>383.000000</td>\n",
       "      <td>256</td>\n",
       "      <td>359</td>\n",
       "      <td>13.823529</td>\n",
       "      <td>15.0</td>\n",
       "    </tr>\n",
       "    <tr>\n",
       "      <th>44</th>\n",
       "      <td>M</td>\n",
       "      <td>688.000000</td>\n",
       "      <td>466</td>\n",
       "      <td>457</td>\n",
       "      <td>11.066667</td>\n",
       "      <td>18.0</td>\n",
       "    </tr>\n",
       "    <tr>\n",
       "      <th>45</th>\n",
       "      <td>M</td>\n",
       "      <td>3500.000000</td>\n",
       "      <td>260</td>\n",
       "      <td>463</td>\n",
       "      <td>15.666667</td>\n",
       "      <td>24.0</td>\n",
       "    </tr>\n",
       "    <tr>\n",
       "      <th>46</th>\n",
       "      <td>F</td>\n",
       "      <td>2143.000000</td>\n",
       "      <td>353</td>\n",
       "      <td>328</td>\n",
       "      <td>9.260870</td>\n",
       "      <td>14.0</td>\n",
       "    </tr>\n",
       "    <tr>\n",
       "      <th>47</th>\n",
       "      <td>F</td>\n",
       "      <td>625.000000</td>\n",
       "      <td>466</td>\n",
       "      <td>362</td>\n",
       "      <td>14.090909</td>\n",
       "      <td>20.0</td>\n",
       "    </tr>\n",
       "    <tr>\n",
       "      <th>48</th>\n",
       "      <td>M</td>\n",
       "      <td>1560.000000</td>\n",
       "      <td>488</td>\n",
       "      <td>487</td>\n",
       "      <td>15.000000</td>\n",
       "      <td>21.0</td>\n",
       "    </tr>\n",
       "    <tr>\n",
       "      <th>49</th>\n",
       "      <td>F</td>\n",
       "      <td>1247.000000</td>\n",
       "      <td>313</td>\n",
       "      <td>350</td>\n",
       "      <td>26.333333</td>\n",
       "      <td>41.0</td>\n",
       "    </tr>\n",
       "    <tr>\n",
       "      <th>50</th>\n",
       "      <td>M</td>\n",
       "      <td>611.000000</td>\n",
       "      <td>323</td>\n",
       "      <td>302</td>\n",
       "      <td>15.000000</td>\n",
       "      <td>20.0</td>\n",
       "    </tr>\n",
       "    <tr>\n",
       "      <th>51</th>\n",
       "      <td>F</td>\n",
       "      <td>1431.000000</td>\n",
       "      <td>390</td>\n",
       "      <td>315</td>\n",
       "      <td>13.000000</td>\n",
       "      <td>5.0</td>\n",
       "    </tr>\n",
       "    <tr>\n",
       "      <th>52</th>\n",
       "      <td>F</td>\n",
       "      <td>1089.000000</td>\n",
       "      <td>520</td>\n",
       "      <td>480</td>\n",
       "      <td>5.200000</td>\n",
       "      <td>16.0</td>\n",
       "    </tr>\n",
       "    <tr>\n",
       "      <th>53</th>\n",
       "      <td>F</td>\n",
       "      <td>435.000000</td>\n",
       "      <td>298</td>\n",
       "      <td>281</td>\n",
       "      <td>15.000000</td>\n",
       "      <td>15.0</td>\n",
       "    </tr>\n",
       "    <tr>\n",
       "      <th>54</th>\n",
       "      <td>F</td>\n",
       "      <td>1409.000000</td>\n",
       "      <td>405</td>\n",
       "      <td>377</td>\n",
       "      <td>12.666667</td>\n",
       "      <td>12.0</td>\n",
       "    </tr>\n",
       "    <tr>\n",
       "      <th>55</th>\n",
       "      <td>M</td>\n",
       "      <td>647.000000</td>\n",
       "      <td>422</td>\n",
       "      <td>401</td>\n",
       "      <td>9.500000</td>\n",
       "      <td>10.0</td>\n",
       "    </tr>\n",
       "    <tr>\n",
       "      <th>56</th>\n",
       "      <td>M</td>\n",
       "      <td>415.000000</td>\n",
       "      <td>308</td>\n",
       "      <td>242</td>\n",
       "      <td>8.333333</td>\n",
       "      <td>10.0</td>\n",
       "    </tr>\n",
       "    <tr>\n",
       "      <th>57</th>\n",
       "      <td>F</td>\n",
       "      <td>492.000000</td>\n",
       "      <td>384</td>\n",
       "      <td>276</td>\n",
       "      <td>8.750000</td>\n",
       "      <td>14.0</td>\n",
       "    </tr>\n",
       "    <tr>\n",
       "      <th>58</th>\n",
       "      <td>M</td>\n",
       "      <td>1043.000000</td>\n",
       "      <td>682</td>\n",
       "      <td>731</td>\n",
       "      <td>13.250000</td>\n",
       "      <td>20.0</td>\n",
       "    </tr>\n",
       "    <tr>\n",
       "      <th>59</th>\n",
       "      <td>M</td>\n",
       "      <td>3668.000000</td>\n",
       "      <td>693</td>\n",
       "      <td>781</td>\n",
       "      <td>15.000000</td>\n",
       "      <td>15.0</td>\n",
       "    </tr>\n",
       "  </tbody>\n",
       "</table>\n",
       "</div>"
      ],
      "text/plain": [
       "   gender  median_home_val  ic2  ic3    avggift  target_d\n",
       "0       M      1158.437751  430  466  28.000000     100.0\n",
       "1       M       537.000000  415  410   5.666667       7.0\n",
       "2       F       725.000000  340  361   4.111111       5.0\n",
       "3       M      1158.437751  407  399  27.277778      38.0\n",
       "4       F       995.000000  280  316   6.000000       5.0\n",
       "5       M       764.000000  477  480  25.571429      30.0\n",
       "6       M       890.000000  525  551   6.175000       7.0\n",
       "7       F      1158.437751  206  235   8.818182      10.0\n",
       "8       F      1569.000000  672  785  13.000000       5.0\n",
       "9       F      3515.000000  565  549   8.640000      10.0\n",
       "10      F      1026.000000  470  491  11.250000      10.0\n",
       "11      F       890.000000  474  512  11.285714      15.0\n",
       "12      F      1513.000000  599  615  18.500000      28.0\n",
       "13      F       948.000000  365  368  15.000000      15.0\n",
       "14      F       258.000000   60   93   5.450000       6.0\n",
       "15      F      1040.000000  609  579  11.666667      15.0\n",
       "16      F       603.000000  264  288   5.000000       5.0\n",
       "17      F       526.000000  336  317   7.142857      10.0\n",
       "18      M       717.000000  458  349   9.700000      25.0\n",
       "19      M      1011.000000  588  650   6.500000      15.0\n",
       "20      M      1063.000000  260  312   8.372791       5.0\n",
       "21      M       291.000000  168  180  10.611111      10.0\n",
       "22      M      1538.000000  317  342   5.500000       5.0\n",
       "23      F       592.000000  341  306  12.500000       5.0\n",
       "24      M       871.000000  385  365   7.857143      10.0\n",
       "25      M       403.000000  240  201   8.000000      10.0\n",
       "26      F       715.000000  378  371   6.000000       7.5\n",
       "27      F      2346.000000  446  468  15.500000      21.0\n",
       "28      M       559.000000  270  257  12.611111      20.0\n",
       "29      M      1158.437751  457  450  12.250000      20.0\n",
       "30      F       596.000000  168  181  16.500000      15.0\n",
       "31      M       706.000000  376  379  15.000000      25.0\n",
       "32      F       878.000000  517  433  10.133333      16.0\n",
       "33      F      1275.000000  453  500   6.600000      10.0\n",
       "34      F      2362.000000  632  655   8.928571       5.0\n",
       "35      M      2531.000000  730  696   8.272727      11.0\n",
       "36      F      2089.000000  296  322   7.125000       5.0\n",
       "37      F       832.000000  338  348  10.000000      10.0\n",
       "38      M      1458.000000  354  356   6.181818      10.0\n",
       "39      F      1590.000000  238  262  13.500000      15.0\n",
       "40      F       613.000000  245  294  11.833333      25.0\n",
       "41      F       477.000000  282  292   5.875000      10.0\n",
       "42      F       424.000000  256  230   4.863636       6.0\n",
       "43      M       383.000000  256  359  13.823529      15.0\n",
       "44      M       688.000000  466  457  11.066667      18.0\n",
       "45      M      3500.000000  260  463  15.666667      24.0\n",
       "46      F      2143.000000  353  328   9.260870      14.0\n",
       "47      F       625.000000  466  362  14.090909      20.0\n",
       "48      M      1560.000000  488  487  15.000000      21.0\n",
       "49      F      1247.000000  313  350  26.333333      41.0\n",
       "50      M       611.000000  323  302  15.000000      20.0\n",
       "51      F      1431.000000  390  315  13.000000       5.0\n",
       "52      F      1089.000000  520  480   5.200000      16.0\n",
       "53      F       435.000000  298  281  15.000000      15.0\n",
       "54      F      1409.000000  405  377  12.666667      12.0\n",
       "55      M       647.000000  422  401   9.500000      10.0\n",
       "56      M       415.000000  308  242   8.333333      10.0\n",
       "57      F       492.000000  384  276   8.750000      14.0\n",
       "58      M      1043.000000  682  731  13.250000      20.0\n",
       "59      M      3668.000000  693  781  15.000000      15.0"
      ]
     },
     "execution_count": 3,
     "metadata": {},
     "output_type": "execute_result"
    }
   ],
   "source": [
    "data = pd.read_csv('merged_clean_reduced.csv')\n",
    "data.head(60)"
   ]
  },
  {
   "cell_type": "code",
   "execution_count": null,
   "metadata": {
    "id": "DwFxeXyMQ7Ig"
   },
   "outputs": [],
   "source": [
    "# Exploratory data analysis using matplotlib"
   ]
  },
  {
   "cell_type": "code",
   "execution_count": 4,
   "metadata": {
    "id": "n32j4tUdW_FO"
   },
   "outputs": [],
   "source": [
    "import matplotlib.pyplot as plt\n",
    "import seaborn as sns \n",
    "%matplotlib inline"
   ]
  },
  {
   "cell_type": "code",
   "execution_count": 5,
   "metadata": {
    "id": "Yu1P8AOgOb8u"
   },
   "outputs": [
    {
     "data": {
      "text/plain": [
       "F    2080\n",
       "M    1466\n",
       "Name: gender, dtype: int64"
      ]
     },
     "execution_count": 5,
     "metadata": {},
     "output_type": "execute_result"
    }
   ],
   "source": [
    "data['gender'].value_counts()"
   ]
  },
  {
   "cell_type": "code",
   "execution_count": 6,
   "metadata": {
    "id": "5SVcdJK0Ob8v"
   },
   "outputs": [
    {
     "data": {
      "image/png": "[encoded data removed]",
      "text/plain": [
       "<Figure size 640x480 with 1 Axes>"
      ]
     },
     "metadata": {},
     "output_type": "display_data"
    }
   ],
   "source": [
    "# Let's see hot to generate a barplot with Seaborn.\n",
    "sns.barplot(x=\"gender\", y=\"median_home_val\", data=data)\n",
    "plt.show()"
   ]
  },
  {
   "cell_type": "code",
   "execution_count": 10,
   "metadata": {},
   "outputs": [
    {
     "data": {
      "image/png": "[encoded data removed]",
      "text/plain": [
       "<Figure size 640x480 with 1 Axes>"
      ]
     },
     "metadata": {},
     "output_type": "display_data"
    }
   ],
   "source": [
    "sns.countplot(data=data, x=\"gender\")\n",
    "plt.show() # shows the mean , the numbers add up with the frequency "
   ]
  },
  {
   "cell_type": "code",
   "execution_count": 11,
   "metadata": {},
   "outputs": [
    {
     "data": {
      "image/png": "[encoded data removed]",
      "text/plain": [
       "<Figure size 1000x500 with 2 Axes>"
      ]
     },
     "metadata": {},
     "output_type": "display_data"
    }
   ],
   "source": [
    "fig, ax = plt.subplots(1,2, figsize=(10,5))\n",
    "sns.barplot(data=data, x=\"gender\", y=\"median_home_val\", ax = ax[0])\n",
    "sns.countplot(data=data, x=\"gender\", ax = ax[1])\n",
    "plt.tight_layout()\n",
    "plt.show()"
   ]
  },
  {
   "cell_type": "code",
   "execution_count": null,
   "metadata": {
    "id": "h-JUXUJUOb8w"
   },
   "outputs": [],
   "source": [
    "data['donated_big'] = data['target_d']>10\n",
    "data.head()"
   ]
  },
  {
   "cell_type": "code",
   "execution_count": null,
   "metadata": {
    "id": "OL3UTHgyr_de"
   },
   "outputs": [],
   "source": [
    "# everything can be a bar chart, but that is a sad sad world\n",
    "sns.barplot(x=\"donated_big\", y=\"median_home_val\", data=data)\n",
    "plt.show()"
   ]
  },
  {
   "cell_type": "code",
   "execution_count": null,
   "metadata": {
    "id": "j6T5dWxFq3cM"
   },
   "outputs": [],
   "source": [
    "# boxplots are very powerful for EDA but you should never put one in front of a client. Most of them they don't know what they display.\n",
    "sns.boxplot(x = 'gender',y='median_home_val', data=data)\n",
    "plt.show()"
   ]
  },
  {
   "cell_type": "code",
   "execution_count": null,
   "metadata": {
    "id": "w8OLeBoYtSYY"
   },
   "outputs": [],
   "source": [
    "# for quick visualization sometimes we do this without explicitly calling sns or plt \n",
    "data[['median_home_val']].boxplot()\n",
    "plt.show()"
   ]
  },
  {
   "cell_type": "code",
   "execution_count": null,
   "metadata": {
    "id": "J9h9lIB849vA"
   },
   "outputs": [],
   "source": [
    "# distributions plotsare more datailed than boxplots, but are not as succint\n",
    "sns.displot(data['median_home_val'], bins=50)\n",
    "plt.show()"
   ]
  },
  {
   "cell_type": "code",
   "execution_count": null,
   "metadata": {
    "id": "w5W364XX5APw"
   },
   "outputs": [],
   "source": [
    "# for quick visualization\n",
    "data['median_home_val'].hist(bins=60)\n",
    "plt.show()"
   ]
  },
  {
   "cell_type": "code",
   "execution_count": null,
   "metadata": {
    "id": "lwDFCTCMQ7Ig"
   },
   "outputs": [],
   "source": [
    "#scatterplots are great to compare two distinct variables and see if they are somehow related!\n",
    "sns.scatterplot(x=data['ic2'], y=data['ic3'])\n",
    "plt.show()"
   ]
  },
  {
   "cell_type": "code",
   "execution_count": null,
   "metadata": {
    "id": "6hpeHUUOqHSG"
   },
   "outputs": [],
   "source": [
    "# the big bomb of Visual Data Anlysis\n",
    "sns.pairplot(data)\n",
    "plt.show()"
   ]
  },
  {
   "cell_type": "code",
   "execution_count": null,
   "metadata": {
    "id": "Xo23iu6XQ7Ij"
   },
   "outputs": [],
   "source": [
    "#finally, some notions on correlation: is our dataset generally independent or are we seeing the same thing over and over?\n",
    "# shen not specified, always shows Pearson correlation\n",
    "correlations_matrix = data.corr()\n",
    "correlations_matrix"
   ]
  },
  {
   "cell_type": "code",
   "execution_count": null,
   "metadata": {
    "id": "c6xasQXKln-t"
   },
   "outputs": [],
   "source": [
    "sns.heatmap(correlations_matrix, annot=True)\n",
    "plt.show()"
   ]
  },
  {
   "cell_type": "markdown",
   "metadata": {
    "id": "7AMUf_ltmJZW"
   },
   "source": [
    "# Lesson 4"
   ]
  },
  {
   "cell_type": "code",
   "execution_count": null,
   "metadata": {
    "id": "FR2WMZPEltqS"
   },
   "outputs": [],
   "source": [
    "#discussion on distributions + normal distribution"
   ]
  },
  {
   "cell_type": "code",
   "execution_count": null,
   "metadata": {
    "id": "GShafZ_omNot"
   },
   "outputs": [],
   "source": [
    "sns.displot(data['median_home_val'], bins=60)\n",
    "plt.show()"
   ]
  },
  {
   "cell_type": "code",
   "execution_count": null,
   "metadata": {
    "id": "2N75lwpxBAWx"
   },
   "outputs": [],
   "source": [
    "heights=[185,180,186,174,174,176,170,160,180,183,180,175,\n",
    "         171,180,167,172,178,164,160,167,202]\n",
    "\n",
    "shoe_size = [42,42,43,38,42,43,40,35,45,41,42,42,41,45,39,39,43,38,37,40,46]"
   ]
  },
  {
   "cell_type": "code",
   "execution_count": null,
   "metadata": {
    "id": "idzUwez_BDeO"
   },
   "outputs": [],
   "source": [
    "sns.displot(heights,bins=20)\n",
    "plt.show()"
   ]
  },
  {
   "cell_type": "code",
   "execution_count": null,
   "metadata": {
    "id": "Sp11rDJdBNmX"
   },
   "outputs": [],
   "source": [
    "sns.displot(shoe_size,bins=20)\n",
    "plt.show()"
   ]
  },
  {
   "cell_type": "code",
   "execution_count": null,
   "metadata": {
    "id": "bkgsyxsjmZcz"
   },
   "outputs": [],
   "source": [
    "import random\n",
    "\n",
    "throw_10000_dice = [random.randint(1,6)for i in range(10000)]\n",
    "throw_10000_pairsofdice = [random.randint(1,6)+random.randint(1,6) for i in range(10000)]\n",
    "throw_10000_triosofdice = [random.randint(1,6)+random.randint(1,6)+random.randint(1,6) for i in range(10000)]"
   ]
  },
  {
   "cell_type": "code",
   "execution_count": null,
   "metadata": {
    "id": "a5-M4_9ADCfE"
   },
   "outputs": [],
   "source": [
    "sns.displot(throw_10000_dice)\n",
    "plt.show()"
   ]
  },
  {
   "cell_type": "code",
   "execution_count": null,
   "metadata": {
    "id": "WO_vSAzlm56t"
   },
   "outputs": [],
   "source": [
    "sns.displot(throw_10000_pairsofdice)\n",
    "plt.show()"
   ]
  },
  {
   "cell_type": "code",
   "execution_count": null,
   "metadata": {
    "id": "DuwklMIxOb82"
   },
   "outputs": [],
   "source": [
    "sns.displot(throw_10000_triosofdice)\n",
    "plt.show()"
   ]
  },
  {
   "cell_type": "code",
   "execution_count": null,
   "metadata": {
    "id": "JRkE2ZerOb82"
   },
   "outputs": [],
   "source": [
    "np.random.randn(5)"
   ]
  },
  {
   "cell_type": "code",
   "execution_count": null,
   "metadata": {
    "id": "2OVaO8iRm6eg"
   },
   "outputs": [],
   "source": [
    "mu, sigma = 100, 50\n",
    "x = mu + sigma * np.random.randn(500)\n",
    "\n",
    "# the histogram of the data\n",
    "sns.displot(x,bins=50)\n",
    "plt.show()"
   ]
  },
  {
   "cell_type": "code",
   "execution_count": null,
   "metadata": {
    "id": "ttnMza2onRy0"
   },
   "outputs": [],
   "source": [
    "mu, sigma = 100, 50\n",
    "x = mu + sigma * np.random.randn(5000)\n",
    "# the histogram of the data\n",
    "sns.displot(x,bins=50)\n",
    "plt.show()"
   ]
  },
  {
   "cell_type": "code",
   "execution_count": null,
   "metadata": {
    "id": "0DfQj4YRnYhs",
    "scrolled": true
   },
   "outputs": [],
   "source": [
    "mu, sigma = 100, 50\n",
    "x = mu + sigma * np.random.randn(50000)\n",
    "# the histogram of the data\n",
    "sns.displot(x,bins=500)\n",
    "plt.show()"
   ]
  },
  {
   "cell_type": "code",
   "execution_count": null,
   "metadata": {
    "id": "fUg9bIFbniEQ"
   },
   "outputs": [],
   "source": [
    "# why is this distribution so important?\n",
    "# occurs naturally\n",
    "# single peak, symmetrical, tapers off"
   ]
  },
  {
   "cell_type": "code",
   "execution_count": null,
   "metadata": {
    "id": "HMZUSyjPBR_7"
   },
   "outputs": [],
   "source": [
    "#discussion back on shoe sizes, are they normally distributed?\n",
    "shoe_size = [42,42,43,38,42,43,40,35,45,41,42,42,41,45,39,39,43,38,37,40,46]\n",
    "\n",
    "sns.displot(shoe_size,bins=20)\n",
    "plt.show()"
   ]
  }
 ],
 "metadata": {
  "colab": {
   "collapsed_sections": [],
   "name": "1.05 afternoon_students.ipynb",
   "provenance": []
  },
  "kernelspec": {
   "display_name": "Python 3 (ipykernel)",
   "language": "python",
   "name": "python3"
  },
  "language_info": {
   "codemirror_mode": {
    "name": "ipython",
    "version": 3
   },
   "file_extension": ".py",
   "mimetype": "text/x-python",
   "name": "python",
   "nbconvert_exporter": "python",
   "pygments_lexer": "ipython3",
   "version": "3.9.13"
  }
 },
 "nbformat": 4,
 "nbformat_minor": 1
}
